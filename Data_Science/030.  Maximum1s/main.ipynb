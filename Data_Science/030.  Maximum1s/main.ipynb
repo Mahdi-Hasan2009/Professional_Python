{
 "cells": [
  {
   "cell_type": "code",
   "execution_count": null,
   "metadata": {},
   "outputs": [],
   "source": [
    "\"\"\"\n",
    "Maximum consecutive 1’s\n",
    "We can find the maximum consecutive 1’ present using the following steps:\n",
    "\n",
    "First, take two variables; one will store our current maximums 1’s, and the other will store the final result.\n",
    "Go through the array and increment number of 1’s till we hit a 0.\n",
    "Compare each time and swap the current maximum with the final result if it is greater.\n",
    "\"\"\""
   ]
  },
  {
   "cell_type": "code",
   "execution_count": null,
   "metadata": {},
   "outputs": [],
   "source": [
    "# Returns the result"
   ]
  },
  {
   "cell_type": "code",
   "execution_count": 2,
   "metadata": {},
   "outputs": [],
   "source": [
    "def getMaxLength(arr, n):\n",
    "  counter = 0\n",
    "  MaxOnes = 0\n",
    "  \n",
    "  for i in range(0, n):\n",
    "    # If we find a 0 than reset the counter\n",
    "    if arr[i] == 0:\n",
    "      counter = 0\n",
    "    else:\n",
    "      counter += 1\n",
    "      MaxOnes = max(MaxOnes, counter)\n",
    "    \n",
    "  return MaxOnes"
   ]
  },
  {
   "cell_type": "code",
   "execution_count": null,
   "metadata": {},
   "outputs": [],
   "source": [
    "arr =  [1, 0, 1,0, 1, 1, 1, 1, 0, 1, 1, 1, 0, 1, 0, 1, 1, 1, 1, 1, 1]\n",
    "n = len(arr)"
   ]
  },
  {
   "cell_type": "code",
   "execution_count": 3,
   "metadata": {},
   "outputs": [
    {
     "name": "stdout",
     "output_type": "stream",
     "text": [
      "Max 1's: 6\n"
     ]
    }
   ],
   "source": [
    "print(\"Max 1's: {}\".format(getMaxLength(arr, n)))"
   ]
  }
 ],
 "metadata": {
  "kernelspec": {
   "display_name": "Python 3",
   "language": "python",
   "name": "python3"
  },
  "language_info": {
   "codemirror_mode": {
    "name": "ipython",
    "version": 3
   },
   "file_extension": ".py",
   "mimetype": "text/x-python",
   "name": "python",
   "nbconvert_exporter": "python",
   "pygments_lexer": "ipython3",
   "version": "3.13.0"
  }
 },
 "nbformat": 4,
 "nbformat_minor": 2
}
