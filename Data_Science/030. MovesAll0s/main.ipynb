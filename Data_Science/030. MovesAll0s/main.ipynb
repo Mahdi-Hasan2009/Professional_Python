{
 "cells": [
  {
   "cell_type": "code",
   "execution_count": null,
   "metadata": {},
   "outputs": [],
   "source": [
    "\"\"\"\n",
    "🟢 Moving all 0s to the end\n",
    "We can move all 0’s to the end of an array using the following steps:\n",
    "\n",
    "👉 Take two variables, one storing the current index of our array second storing where we want to move zeros.\n",
    "\n",
    "👉 If we hit a 0, just swap it with the second variable and move it to the left.\n",
    "\"\"\""
   ]
  },
  {
   "cell_type": "code",
   "execution_count": 2,
   "metadata": {},
   "outputs": [],
   "source": [
    "def pushZerosToEnd(arr, arr_size):\n",
    "  # Zero will hold the position where non zero numbers should be\n",
    "  zero = 0\n",
    "  \n",
    "  # Non Zero will iterate to find if the current number is zero or non zero\n",
    "  nonzero = 0\n",
    "  \n",
    "  while nonzero != arr_size:\n",
    "    if arr[nonzero] != 0:\n",
    "      arr[nonzero], arr[zero] = arr[zero], arr[nonzero]\n",
    "      zero += 1\n",
    "    nonzero += 1"
   ]
  },
  {
   "cell_type": "code",
   "execution_count": null,
   "metadata": {},
   "outputs": [],
   "source": [
    "# Driver Code"
   ]
  },
  {
   "cell_type": "code",
   "execution_count": 1,
   "metadata": {},
   "outputs": [],
   "source": [
    "arr = [1, 0, 2, 75, 355, 0, 2, 0, 255, 355, 0 , 1 , 1, 0 ,1]\n",
    "arr_size = len(arr)"
   ]
  },
  {
   "cell_type": "code",
   "execution_count": null,
   "metadata": {},
   "outputs": [],
   "source": [
    "# Test Code"
   ]
  },
  {
   "cell_type": "code",
   "execution_count": 3,
   "metadata": {},
   "outputs": [
    {
     "name": "stdout",
     "output_type": "stream",
     "text": [
      "[1, 0, 2, 75, 355, 0, 2, 0, 255, 355, 0, 1, 1, 0, 1]\n",
      "Array after pushing all zeros to end of array:\n",
      "[1, 2, 75, 355, 2, 255, 355, 1, 1, 1, 0, 0, 0, 0, 0]\n"
     ]
    }
   ],
   "source": [
    "print(arr)\n",
    "pushZerosToEnd(arr, arr_size)\n",
    "print(\"Array after pushing all zeros to end of array:\")\n",
    "print(arr)"
   ]
  }
 ],
 "metadata": {
  "kernelspec": {
   "display_name": "Python 3",
   "language": "python",
   "name": "python3"
  },
  "language_info": {
   "codemirror_mode": {
    "name": "ipython",
    "version": 3
   },
   "file_extension": ".py",
   "mimetype": "text/x-python",
   "name": "python",
   "nbconvert_exporter": "python",
   "pygments_lexer": "ipython3",
   "version": "3.13.0"
  }
 },
 "nbformat": 4,
 "nbformat_minor": 2
}
