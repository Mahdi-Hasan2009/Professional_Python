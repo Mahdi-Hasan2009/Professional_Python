{
 "cells": [
  {
   "cell_type": "code",
   "execution_count": null,
   "id": "39b049a8",
   "metadata": {},
   "outputs": [],
   "source": [
    "# EquilibriumPoint = ভারসাম্য বিন্দু"
   ]
  },
  {
   "cell_type": "code",
   "execution_count": null,
   "id": "6bb2eac4",
   "metadata": {},
   "outputs": [],
   "source": [
    "\"\"\"\n",
    "👉 We can find the equilibrium point for an array following these steps:\n",
    "🟢 First, go to the index in the array and check if the left and right sum are equal.\n",
    "🟢 If both are the same, we can call that index our equilibrium point.\n",
    "\"\"\""
   ]
  },
  {
   "cell_type": "code",
   "execution_count": null,
   "id": "4e01447a",
   "metadata": {},
   "outputs": [],
   "source": [
    "\"\"\"\n",
    "👉 আমরা এই ধাপগুলি অনুসরণ করে একটি অ্যারের জন্য ভারসাম্য বিন্দু খুঁজে পেতে পারি:\n",
    "🟢 প্রথমে, অ্যারের সূচকে যান এবং বাম এবং ডান যোগফল সমান কিনা তা পরীক্ষা করুন।\n",
    "🟢 যদি উভয়ই একই হয়, আমরা সেই সূচকটিকে আমাদের ভারসাম্য বিন্দু বলতে পারি।\n",
    "\"\"\""
   ]
  },
  {
   "cell_type": "code",
   "execution_count": 1,
   "id": "2cc800cc",
   "metadata": {},
   "outputs": [],
   "source": [
    "def EquilibriumPoint(arr):\n",
    "  n = len(arr)\n",
    "  # Go to each index of the array and check if the index is an equilibrium point or not\n",
    "  for i in range(n):\n",
    "    left_side_sum, right_side_sum = 0, 0\n",
    "    \n",
    "    # Get the left sum\n",
    "    for j in range(i):\n",
    "      left_side_sum += arr[j]\n",
    "    \n",
    "    # Get the right side sum\n",
    "    for j in range(i+1, n):\n",
    "      right_side_sum += arr[j]\n",
    "    \n",
    "    if left_side_sum == right_side_sum:\n",
    "       return i \n",
    "  return -1"
   ]
  },
  {
   "cell_type": "code",
   "execution_count": 2,
   "id": "1685cc47",
   "metadata": {},
   "outputs": [],
   "source": [
    "arr = [-4, 6, 2, 0, 0, 1, 1]"
   ]
  },
  {
   "cell_type": "code",
   "execution_count": 3,
   "id": "cc59e8b2",
   "metadata": {},
   "outputs": [
    {
     "name": "stdout",
     "output_type": "stream",
     "text": [
      "ভারসাম্য বিন্দু: 2\n"
     ]
    }
   ],
   "source": [
    "print(\"ভারসাম্য বিন্দু: %d\" % EquilibriumPoint(arr))"
   ]
  }
 ],
 "metadata": {
  "kernelspec": {
   "display_name": ".venv",
   "language": "python",
   "name": "python3"
  },
  "language_info": {
   "codemirror_mode": {
    "name": "ipython",
    "version": 3
   },
   "file_extension": ".py",
   "mimetype": "text/x-python",
   "name": "python",
   "nbconvert_exporter": "python",
   "pygments_lexer": "ipython3",
   "version": "3.11.0"
  }
 },
 "nbformat": 4,
 "nbformat_minor": 5
}
