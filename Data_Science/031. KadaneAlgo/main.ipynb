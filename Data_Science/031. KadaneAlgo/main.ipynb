{
 "cells": [
  {
   "cell_type": "code",
   "execution_count": null,
   "metadata": {},
   "outputs": [],
   "source": [
    "# Programm to find max subarray sum"
   ]
  },
  {
   "cell_type": "code",
   "execution_count": null,
   "metadata": {},
   "outputs": [],
   "source": [
    "\"\"\"\n",
    "**Kadane’s Algorithm**\n",
    "🚀 Kadane's algorithm simply looks for all contiguous segments of the array that are positive (max_ending_here is used for this). Keep track of the maximum contiguous segment among all positive segments (max_so_far is used for this). Each time we If the sum is greater than max_so_far, update max_so_far \n",
    "\"\"\"\n"
   ]
  },
  {
   "cell_type": "code",
   "execution_count": 1,
   "metadata": {},
   "outputs": [],
   "source": [
    "def maxSubArraySum(arr, arr_size):\n",
    "  max = -9999999999999\n",
    "  cmax = 0\n",
    "  # Add current element to current max, check if cmax>max if yes update max, if cmax<0 set cmax to 0\n",
    "  for i in range(0, arr_size):\n",
    "    cmax = cmax + arr[i]\n",
    "    if max < cmax:\n",
    "      max = cmax\n",
    "    if cmax < 0:\n",
    "      cmax = 0\n",
    "  return max"
   ]
  },
  {
   "cell_type": "code",
   "execution_count": 2,
   "metadata": {},
   "outputs": [],
   "source": [
    "arr =  [1, 2, 3, -4, 5, -22, -4, 25, 2, -9]"
   ]
  },
  {
   "cell_type": "code",
   "execution_count": 3,
   "metadata": {},
   "outputs": [
    {
     "name": "stdout",
     "output_type": "stream",
     "text": [
      "27\n"
     ]
    }
   ],
   "source": [
    "print(maxSubArraySum(arr, len(arr)))"
   ]
  }
 ],
 "metadata": {
  "kernelspec": {
   "display_name": ".venv",
   "language": "python",
   "name": "python3"
  },
  "language_info": {
   "codemirror_mode": {
    "name": "ipython",
    "version": 3
   },
   "file_extension": ".py",
   "mimetype": "text/x-python",
   "name": "python",
   "nbconvert_exporter": "python",
   "pygments_lexer": "ipython3",
   "version": "3.11.0"
  }
 },
 "nbformat": 4,
 "nbformat_minor": 2
}
