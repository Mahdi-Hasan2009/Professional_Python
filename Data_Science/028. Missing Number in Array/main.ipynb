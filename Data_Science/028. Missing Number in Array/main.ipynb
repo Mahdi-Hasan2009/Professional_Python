{
 "cells": [
  {
   "cell_type": "code",
   "execution_count": null,
   "metadata": {},
   "outputs": [],
   "source": [
    "# Finding the missing number on Array"
   ]
  },
  {
   "cell_type": "code",
   "execution_count": null,
   "metadata": {},
   "outputs": [],
   "source": [
    "\"\"\"\n",
    "    📌 Finds the missing number in a sequence of integers from 1 to (n+1).\n",
    "    \n",
    "    🔹 Formula Used: Sum of first (n+1) natural numbers →  n(n+1)/2\n",
    "    🔹 Approach: Compare the expected sum with the actual sum of the array.\n",
    "    \n",
    "    📝 Parameters:\n",
    "        arr (list): A list of n unique integers from 1 to (n+1) with one missing.\n",
    "\n",
    "    🎯 Returns:\n",
    "        int: The missing number in the sequence.\n",
    "\n",
    "    🚀 Example Usage:\n",
    "    >>> missing_number([1, 2, 4, 5])\n",
    "    3\n",
    "    \"\"\""
   ]
  },
  {
   "cell_type": "code",
   "execution_count": 2,
   "metadata": {},
   "outputs": [],
   "source": [
    "def missing_number(arr):\n",
    "  # Find the length of the given array\n",
    "  n = len(arr)\n",
    "  \n",
    "  # Calculate the sum of the first (n+1) natural numbers\n",
    "  total = (n + 1) * (n + 2) // 2 # Using integer division to avoid float result\n",
    "  \n",
    "  # Find the sum of the given array\n",
    "  sum_of_arr = sum(arr)\n",
    "  \n",
    "  # The missing number is the difference between the expected total sum and the actual sum\n",
    "  return total - sum_of_arr"
   ]
  },
  {
   "cell_type": "code",
   "execution_count": 1,
   "metadata": {},
   "outputs": [],
   "source": [
    "arr = [1, 3, 4, 5]"
   ]
  },
  {
   "cell_type": "code",
   "execution_count": 3,
   "metadata": {},
   "outputs": [
    {
     "name": "stdout",
     "output_type": "stream",
     "text": [
      "The missing number is 2\n"
     ]
    }
   ],
   "source": [
    "print(f\"The missing number is {missing_number(arr)}\")"
   ]
  }
 ],
 "metadata": {
  "kernelspec": {
   "display_name": "Python 3",
   "language": "python",
   "name": "python3"
  },
  "language_info": {
   "codemirror_mode": {
    "name": "ipython",
    "version": 3
   },
   "file_extension": ".py",
   "mimetype": "text/x-python",
   "name": "python",
   "nbconvert_exporter": "python",
   "pygments_lexer": "ipython3",
   "version": "3.13.0"
  }
 },
 "nbformat": 4,
 "nbformat_minor": 2
}
