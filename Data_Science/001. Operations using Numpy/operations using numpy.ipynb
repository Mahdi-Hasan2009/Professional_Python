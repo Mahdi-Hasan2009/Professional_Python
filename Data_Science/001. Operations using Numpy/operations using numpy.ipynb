{
 "cells": [
  {
   "cell_type": "code",
   "execution_count": 1,
   "metadata": {},
   "outputs": [
    {
     "name": "stdout",
     "output_type": "stream",
     "text": [
      "[0 1 2 3 4 5 6 7 8 9]\n",
      "[ 0 -1  2 -1  4 -1  6 -1  8 -1]\n",
      "[[0 1 2 3 4]\n",
      " [5 6 7 8 9]]\n",
      "45\n"
     ]
    }
   ],
   "source": [
    "\"\"\"\n",
    "  1) Replace all odd numbers in arr with -1 without changing arr\n",
    "  2) Convert a 1D array to a 2D array with 2 rows\n",
    "  3) Iterate through the array and find the sum of all element\n",
    "\"\"\"\n",
    "import numpy as np\n",
    "arr = np.arange(10)  # It is arrange not arrange\n",
    "out = np.where(arr % 2  == 1, -1, arr)\n",
    "print(arr)\n",
    "print(out)\n",
    "#1D to 2D\n",
    "new_array = arr.reshape(2, -1)# -1 for if I do not know about column\n",
    "print(new_array)\n",
    "# Sum\n",
    "sum = 0\n",
    "for x in range(0, len(arr)):\n",
    "  sum = sum + arr[x]\n",
    "print(sum)"
   ]
  }
 ],
 "metadata": {
  "kernelspec": {
   "display_name": "Python 3",
   "language": "python",
   "name": "python3"
  },
  "language_info": {
   "codemirror_mode": {
    "name": "ipython",
    "version": 3
   },
   "file_extension": ".py",
   "mimetype": "text/x-python",
   "name": "python",
   "nbconvert_exporter": "python",
   "pygments_lexer": "ipython3",
   "version": "3.13.0"
  }
 },
 "nbformat": 4,
 "nbformat_minor": 2
}
