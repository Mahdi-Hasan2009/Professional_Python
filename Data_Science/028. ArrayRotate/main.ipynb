{
 "cells": [
  {
   "cell_type": "code",
   "execution_count": null,
   "metadata": {},
   "outputs": [],
   "source": [
    "# ArrayRotate"
   ]
  },
  {
   "cell_type": "code",
   "execution_count": null,
   "metadata": {},
   "outputs": [],
   "source": [
    "\"\"\"\n",
    "Rotate elements in an array\n",
    "We can left rotate elements in an array by following these steps :\n",
    "\n",
    "First, we can write a function to rotate one element to the left and use it n times.\n",
    "To rotate one element to the left, first store the leftmost element into a temp variable.\n",
    "Now run a loop from 1 to array_size and first with second element and so on.\n",
    "After this loop, swap the last element with our temp variable.\n",
    "\"\"\""
   ]
  },
  {
   "cell_type": "code",
   "execution_count": 2,
   "metadata": {},
   "outputs": [],
   "source": [
    "# Input array length and 'n'\n",
    "def rotations(a,n, a_size):\n",
    "  for i in range(n):\n",
    "    rotate(a, a_size)\n",
    "    \n",
    "# Rotate array to the left by one place\n",
    "def rotate(a, a_size):\n",
    "  temp = a[0]\n",
    "  for i in range(a_size-1):\n",
    "    a[i] = a[i+1]\n",
    "  a[a_size-1] = temp\n",
    "  \n",
    "  \n",
    "def printArray(a, a_size):\n",
    "  for i in range(a_size):\n",
    "    print(\"%d\"%a[i], end=\" \")\n",
    "  print(\"\\n\")"
   ]
  },
  {
   "cell_type": "code",
   "execution_count": 1,
   "metadata": {},
   "outputs": [],
   "source": [
    "arr = [191, 84, 140, 45, 74, 74, 47, 17, 8, 12]"
   ]
  },
  {
   "cell_type": "code",
   "execution_count": 3,
   "metadata": {},
   "outputs": [
    {
     "name": "stdout",
     "output_type": "stream",
     "text": [
      "191 84 140 45 74 74 47 17 8 12 \n",
      "\n",
      "140 45 74 74 47 17 8 12 191 84 \n",
      "\n"
     ]
    }
   ],
   "source": [
    "printArray(arr, len(arr))\n",
    "rotations(arr, 2, len(arr))\n",
    "printArray(arr, len(arr))"
   ]
  }
 ],
 "metadata": {
  "kernelspec": {
   "display_name": "Python 3",
   "language": "python",
   "name": "python3"
  },
  "language_info": {
   "codemirror_mode": {
    "name": "ipython",
    "version": 3
   },
   "file_extension": ".py",
   "mimetype": "text/x-python",
   "name": "python",
   "nbconvert_exporter": "python",
   "pygments_lexer": "ipython3",
   "version": "3.13.0"
  }
 },
 "nbformat": 4,
 "nbformat_minor": 2
}
