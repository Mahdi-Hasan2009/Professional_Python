{
 "cells": [
  {
   "cell_type": "code",
   "execution_count": 1,
   "metadata": {},
   "outputs": [],
   "source": [
    "def kadane(a):\n",
    "  n = len(a)\n",
    "  max_so_far = 0\n",
    "  max_ending_here = 0\n",
    "  for i in range(0, n):\n",
    "    max_ending_here  += a[i]\n",
    "    if max_ending_here  < 0:\n",
    "      max_ending_here = 0\n",
    "    if max_so_far < max_ending_here:\n",
    "      max_so_far =  max_ending_here\n",
    "  return max_so_far"
   ]
  },
  {
   "cell_type": "code",
   "execution_count": null,
   "metadata": {},
   "outputs": [],
   "source": [
    "# The function returns maximum circular contiguous sum in a[]"
   ]
  },
  {
   "cell_type": "code",
   "execution_count": 2,
   "metadata": {},
   "outputs": [],
   "source": [
    "def maxCircularSum(a):\n",
    "  n = len(a)\n",
    "  \n",
    "  # Apply kadane zlgo if no circular is needed\n",
    "  max_kadane = kadane(a)\n",
    "  \n",
    "  # Find sum of all element and invert them\n",
    "  max_wrap = 0\n",
    "  for i in range(0, n):\n",
    "    max_wrap += a[i]\n",
    "    a[i] = -a[i]\n",
    "  \n",
    "  # Apply kedance alo to find maximum inverted subarray\n",
    "  max_wrap += kadane(a)\n",
    "  \n",
    "  # The maximum circular sum will be a maximum of two sums\n",
    "  if max_wrap > max_kadane:\n",
    "    return max_wrap\n",
    "  else:\n",
    "    return max_kadane"
   ]
  },
  {
   "cell_type": "code",
   "execution_count": 3,
   "metadata": {},
   "outputs": [],
   "source": [
    "a = [11, 10, -20, 5, -3, -5, 8, -13, 10]"
   ]
  },
  {
   "cell_type": "code",
   "execution_count": 4,
   "metadata": {},
   "outputs": [
    {
     "name": "stdout",
     "output_type": "stream",
     "text": [
      "31\n"
     ]
    }
   ],
   "source": [
    "print(maxCircularSum(a))"
   ]
  }
 ],
 "metadata": {
  "kernelspec": {
   "display_name": ".venv",
   "language": "python",
   "name": "python3"
  },
  "language_info": {
   "codemirror_mode": {
    "name": "ipython",
    "version": 3
   },
   "file_extension": ".py",
   "mimetype": "text/x-python",
   "name": "python",
   "nbconvert_exporter": "python",
   "pygments_lexer": "ipython3",
   "version": "3.11.0"
  }
 },
 "nbformat": 4,
 "nbformat_minor": 2
}
