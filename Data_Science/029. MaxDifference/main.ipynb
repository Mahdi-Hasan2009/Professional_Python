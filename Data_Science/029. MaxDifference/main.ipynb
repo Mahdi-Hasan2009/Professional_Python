{
 "cells": [
  {
   "cell_type": "code",
   "execution_count": null,
   "metadata": {},
   "outputs": [],
   "source": [
    "\"\"\"\n",
    "🔢 This program finds the difference between the largest and smallest numbers in an array. \n",
    "\n",
    "📌 Steps:\n",
    "1️⃣ Initialize `smallest` as the first element of the array.\n",
    "2️⃣ Initialize `largest` as the second element (⚠️ This might cause issues if the actual largest number is at index 0).\n",
    "3️⃣ Loop through the array:\n",
    "   - 🔍 If the current number is greater than `largest`, update `largest`.\n",
    "   - 🔄 If the current number is equal to `largest`, keep `largest` as it is (redundant condition 🧐).\n",
    "   - 🔽 If the current number is smaller than `smallest`, update `smallest`.\n",
    "4️⃣ Compute the difference: `largest - smallest`.\n",
    "5️⃣ 🖨️ Print the difference.\n",
    "\n",
    "🚨 Issues:\n",
    "- `largest` is initialized as `array[1]`, which may lead to incorrect results if `array[0]` is the actual largest number.\n",
    "- The condition `elif array[i] == largest:` is unnecessary.\n",
    "\n",
    "✅ Fix: Initialize `largest` properly as `array[0]` to ensure correctness.\n",
    "\"\"\""
   ]
  },
  {
   "cell_type": "code",
   "execution_count": 1,
   "metadata": {},
   "outputs": [],
   "source": [
    "array = [191, 84, 140, 45, 74, 74, 47, 17, 8, 12]"
   ]
  },
  {
   "cell_type": "code",
   "execution_count": 2,
   "metadata": {},
   "outputs": [],
   "source": [
    "smallest = array[0]"
   ]
  },
  {
   "cell_type": "code",
   "execution_count": 3,
   "metadata": {},
   "outputs": [],
   "source": [
    "largest = array[1]"
   ]
  },
  {
   "cell_type": "code",
   "execution_count": 4,
   "metadata": {},
   "outputs": [],
   "source": [
    "for i in range(0, len(array)):\n",
    "  if array[i] > largest:\n",
    "    largest = array[i]\n",
    "  elif array[i] == largest:\n",
    "    largest = array[i]\n",
    "  else:\n",
    "    if smallest > array[i]:\n",
    "      smallest = array[i]\n",
    "    else:\n",
    "      pass"
   ]
  },
  {
   "cell_type": "code",
   "execution_count": 5,
   "metadata": {},
   "outputs": [],
   "source": [
    "difference = largest - smallest"
   ]
  },
  {
   "cell_type": "code",
   "execution_count": 6,
   "metadata": {},
   "outputs": [
    {
     "name": "stdout",
     "output_type": "stream",
     "text": [
      "183\n"
     ]
    }
   ],
   "source": [
    "print(difference)"
   ]
  }
 ],
 "metadata": {
  "kernelspec": {
   "display_name": "Python 3",
   "language": "python",
   "name": "python3"
  },
  "language_info": {
   "codemirror_mode": {
    "name": "ipython",
    "version": 3
   },
   "file_extension": ".py",
   "mimetype": "text/x-python",
   "name": "python",
   "nbconvert_exporter": "python",
   "pygments_lexer": "ipython3",
   "version": "3.13.0"
  }
 },
 "nbformat": 4,
 "nbformat_minor": 2
}
