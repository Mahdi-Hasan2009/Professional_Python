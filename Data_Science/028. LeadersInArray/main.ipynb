{
 "cells": [
  {
   "cell_type": "code",
   "execution_count": null,
   "metadata": {},
   "outputs": [],
   "source": [
    "# LeadersInArray"
   ]
  },
  {
   "cell_type": "code",
   "execution_count": null,
   "metadata": {},
   "outputs": [],
   "source": [
    "\"\"\"\n",
    "Leaders in an array\n",
    "We can find leaders in an array following these steps :\n",
    "\n",
    "First, we store the last element of the array as the current max element and our first leader.\n",
    "Now traverse from the second last element to the first element and check if that number is greater than our current max.\n",
    "Swap current max and print that element as a leader.\n",
    "\"\"\""
   ]
  },
  {
   "cell_type": "code",
   "execution_count": 2,
   "metadata": {},
   "outputs": [],
   "source": [
    "def leaders(arr, arr_size):\n",
    "  # Rigth most is always a leader\n",
    "  intearm_leaders = arr[arr_size - 1]\n",
    "  print(intearm_leaders)\n",
    "  for i in range(arr_size-2, -1, -1):\n",
    "    if intearm_leaders < arr[i]:\n",
    "      print(arr[i])\n",
    "      intearm_leaders = arr[i]\n",
    "    "
   ]
  },
  {
   "cell_type": "code",
   "execution_count": 1,
   "metadata": {},
   "outputs": [],
   "source": [
    "arr = [191, 84, 140, 45, 74, 74, 47, 17, 8, 12]"
   ]
  },
  {
   "cell_type": "code",
   "execution_count": 3,
   "metadata": {},
   "outputs": [
    {
     "name": "stdout",
     "output_type": "stream",
     "text": [
      "12\n",
      "17\n",
      "47\n",
      "74\n",
      "140\n",
      "191\n"
     ]
    }
   ],
   "source": [
    "leaders(arr, len(arr))"
   ]
  }
 ],
 "metadata": {
  "kernelspec": {
   "display_name": "Python 3",
   "language": "python",
   "name": "python3"
  },
  "language_info": {
   "codemirror_mode": {
    "name": "ipython",
    "version": 3
   },
   "file_extension": ".py",
   "mimetype": "text/x-python",
   "name": "python",
   "nbconvert_exporter": "python",
   "pygments_lexer": "ipython3",
   "version": "3.13.0"
  }
 },
 "nbformat": 4,
 "nbformat_minor": 2
}
