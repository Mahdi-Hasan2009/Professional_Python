{
 "cells": [
  {
   "cell_type": "code",
   "execution_count": null,
   "id": "7d77e48c",
   "metadata": {},
   "outputs": [],
   "source": [
    "# SubArraySum"
   ]
  },
  {
   "cell_type": "code",
   "execution_count": null,
   "id": "d6964a9c",
   "metadata": {},
   "outputs": [],
   "source": [
    "\"\"\"\n",
    "**Subarray with given sum**\n",
    "👉 For every array index, make all the possible sub-array and find if the sum can equal the given sum.\n",
    "👉 Make a variable to store the current sum of the current subarray.\n",
    "👉 Reset it to 0 for every iteration.\n",
    "👉 If we find any subarray that has the given sum, just print the positions.\n",
    "\"\"\""
   ]
  },
  {
   "cell_type": "code",
   "execution_count": null,
   "id": "cb5ea20a",
   "metadata": {},
   "outputs": [],
   "source": [
    "\"\"\"\n",
    "**প্রদত্ত যোগফল সহ সাবারে**\n",
    "👉 প্রতিটি অ্যারের সূচকের জন্য, সমস্ত সম্ভাব্য সাব-অ্যারে তৈরি করুন এবং যোগফল প্রদত্ত যোগফলের সমান হতে পারে কিনা তা সন্ধান করুন।\n",
    "👉 বর্তমান সাবয়ারের বর্তমান যোগফল সংরক্ষণ করার জন্য একটি চলক তৈরি করুন।\n",
    "👉 প্রতি পুনরাবৃত্তির জন্য এটি 0 এ রিসেট করুন।\n",
    "👉 যদি আমরা প্রদত্ত যোগফল আছে এমন কোনো সাবয়ারে খুঁজে পাই, শুধু পজিশনগুলো প্রিন্ট করুন।\n",
    "\"\"\""
   ]
  },
  {
   "cell_type": "code",
   "execution_count": 1,
   "id": "7ef31135",
   "metadata": {},
   "outputs": [],
   "source": [
    "def subArraySum(arr, n, sum):\n",
    "  # Start with subarray\n",
    "  for i in range(n):\n",
    "    current_sum = arr[i]\n",
    "    \n",
    "    # Sum all subarray starting with i\n",
    "    j = i+1\n",
    "    while j <= n:\n",
    "      if current_sum == sum:\n",
    "        print(f\"Sum found between idexes {i} and {j-1}\")\n",
    "        return 1\n",
    "      if current_sum == sum or j == n:\n",
    "        break\n",
    "      current_sum += arr[j]\n",
    "      j += 1\n",
    "    print(\"No sunarray found\")\n",
    "    return 0\n"
   ]
  },
  {
   "cell_type": "code",
   "execution_count": 2,
   "id": "8cccd45d",
   "metadata": {},
   "outputs": [],
   "source": [
    "arr = [1, 2, 3, 7, 5]\n",
    "n = len(arr)\n",
    "sum = 3"
   ]
  },
  {
   "cell_type": "code",
   "execution_count": 3,
   "id": "324e1b96",
   "metadata": {},
   "outputs": [
    {
     "name": "stdout",
     "output_type": "stream",
     "text": [
      "Sum found between idexes 0 and 1\n",
      "1\n"
     ]
    }
   ],
   "source": [
    "print(subArraySum(arr, n, sum))"
   ]
  },
  {
   "cell_type": "code",
   "execution_count": 4,
   "id": "314033f0",
   "metadata": {},
   "outputs": [],
   "source": [
    "arr = [1, 2, 3, 7, 5]\n",
    "n = len(arr)\n",
    "sum = 12"
   ]
  },
  {
   "cell_type": "code",
   "execution_count": 5,
   "id": "5eaf44a0",
   "metadata": {},
   "outputs": [
    {
     "name": "stdout",
     "output_type": "stream",
     "text": [
      "No sunarray found\n",
      "0\n"
     ]
    }
   ],
   "source": [
    "print(subArraySum(arr, n, sum))"
   ]
  }
 ],
 "metadata": {
  "kernelspec": {
   "display_name": ".venv",
   "language": "python",
   "name": "python3"
  },
  "language_info": {
   "codemirror_mode": {
    "name": "ipython",
    "version": 3
   },
   "file_extension": ".py",
   "mimetype": "text/x-python",
   "name": "python",
   "nbconvert_exporter": "python",
   "pygments_lexer": "ipython3",
   "version": "3.11.0"
  }
 },
 "nbformat": 4,
 "nbformat_minor": 5
}
