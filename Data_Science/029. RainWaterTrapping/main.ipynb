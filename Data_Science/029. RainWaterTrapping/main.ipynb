{
 "cells": [
  {
   "cell_type": "code",
   "execution_count": null,
   "metadata": {},
   "outputs": [],
   "source": [
    "\"\"\"\n",
    "Rainwater trapping\n",
    "Make two arrays, one holding the maximum height of the left bar for any index i.\n",
    "And another maximum holding height of the right bar for any index i.\n",
    "We can calculate the left and rightmost highest bar by taking the maximum of the max height of the previous bar and our current bar.\n",
    "The amount of water trapped will be a minimum of rightmost and leftmost maximum bar height from the arrays subtracted with the current bar height.\n",
    "\"\"\""
   ]
  },
  {
   "cell_type": "code",
   "execution_count": 2,
   "metadata": {},
   "outputs": [],
   "source": [
    "def findWater(arr, arr_size):\n",
    "  # Make the array to hold the height to lest tallest bar for any ith bar\n",
    "  leftTallest = [0]*arr_size\n",
    "  # Make the array to hold the height to right tallest bar for any ith bar\n",
    "  rightTallest = [0]*arr_size\n",
    "  \n",
    "  # Initialize result\n",
    "  water = 0\n",
    "  \n",
    "  \n",
    "  # Fill left array\n",
    "  leftTallest[0] = arr[0]\n",
    "  for i in range(1, arr_size):\n",
    "    leftTallest[i] = max(leftTallest[i-1], arr[i])\n",
    "    \n",
    "  # Fill the right array\n",
    "  rightTallest[arr_size - 1] = arr[arr_size - 1]\n",
    "  for i in range(arr_size - 2, -1, -1):\n",
    "    rightTallest[i] = max(rightTallest[i+1], arr[i])\n",
    "  \n",
    "  # Water trapped for any ith bar should be minimum of the left and right highest bar - bar height\n",
    "  for i in range(0, arr_size):\n",
    "    water += min(leftTallest[i], rightTallest[i]) - arr[i]\n",
    "    \n",
    "  return water"
   ]
  },
  {
   "cell_type": "code",
   "execution_count": 1,
   "metadata": {},
   "outputs": [],
   "source": [
    "a = [0, 1, 0, 2, 1, 0, 1, 3, 2, 1, 2, 1]\n",
    "bars = len(a)"
   ]
  },
  {
   "cell_type": "code",
   "execution_count": 3,
   "metadata": {},
   "outputs": [
    {
     "name": "stdout",
     "output_type": "stream",
     "text": [
      "Water:  6\n"
     ]
    }
   ],
   "source": [
    "print(\"Water: \", findWater(a, bars))"
   ]
  }
 ],
 "metadata": {
  "kernelspec": {
   "display_name": "Python 3",
   "language": "python",
   "name": "python3"
  },
  "language_info": {
   "codemirror_mode": {
    "name": "ipython",
    "version": 3
   },
   "file_extension": ".py",
   "mimetype": "text/x-python",
   "name": "python",
   "nbconvert_exporter": "python",
   "pygments_lexer": "ipython3",
   "version": "3.13.0"
  }
 },
 "nbformat": 4,
 "nbformat_minor": 2
}
