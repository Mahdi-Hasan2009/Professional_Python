{
 "cells": [
  {
   "cell_type": "code",
   "execution_count": null,
   "metadata": {},
   "outputs": [],
   "source": [
    "\"\"\"Stocks buy-sell\n",
    "We can approach the Stocks but-sell problem by using the following steps:\n",
    "\n",
    "First, as we can buy and sell stocks any day, we should focus on as much profit as we can get.\n",
    "We will check if the stock price for a day is higher than the last day. If yes, we can buy on the last day and sell on the current day.\n",
    "We will do it till we reach the array end.\"\"\""
   ]
  },
  {
   "cell_type": "code",
   "execution_count": null,
   "metadata": {},
   "outputs": [],
   "source": [
    "# Programm to find the max profit you can get from buying and selliing stocks. You are given an array with stocks price for seven days, and you can buy and sell any day."
   ]
  },
  {
   "cell_type": "code",
   "execution_count": 2,
   "metadata": {},
   "outputs": [],
   "source": [
    "def calculateProfits(arr, arr_size):\n",
    "  profit = 0\n",
    "  for i in range(1, arr_size):\n",
    "    # If the current element is greater than last element then we will but the previous day and sell it the current day\n",
    "    if arr[i] > arr[i-1]:\n",
    "      # Calculate profit\n",
    "      profit += arr[i] - arr[i-1]\n",
    "      return profit"
   ]
  },
  {
   "cell_type": "code",
   "execution_count": 1,
   "metadata": {},
   "outputs": [],
   "source": [
    "# Prices for seven days\n",
    "prices = [194, 84, 140, 45, 74, 47, 17]"
   ]
  },
  {
   "cell_type": "code",
   "execution_count": 3,
   "metadata": {},
   "outputs": [
    {
     "name": "stdout",
     "output_type": "stream",
     "text": [
      "Max profit:  56\n"
     ]
    }
   ],
   "source": [
    "print(\"Max profit: \", calculateProfits(prices, len(prices)))"
   ]
  }
 ],
 "metadata": {
  "kernelspec": {
   "display_name": "Python 3",
   "language": "python",
   "name": "python3"
  },
  "language_info": {
   "codemirror_mode": {
    "name": "ipython",
    "version": 3
   },
   "file_extension": ".py",
   "mimetype": "text/x-python",
   "name": "python",
   "nbconvert_exporter": "python",
   "pygments_lexer": "ipython3",
   "version": "3.13.0"
  }
 },
 "nbformat": 4,
 "nbformat_minor": 2
}
