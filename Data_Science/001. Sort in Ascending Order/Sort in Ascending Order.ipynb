{
 "cells": [
  {
   "cell_type": "code",
   "execution_count": 1,
   "metadata": {},
   "outputs": [
    {
     "name": "stdout",
     "output_type": "stream",
     "text": [
      "Original Array\n",
      "[(b'James', 5, 48.5) (b'Nail', 6, 52.5) (b'Paul', 5, 42.1)\n",
      " (b'Mahdi', 5, 50.5)]\n",
      "Sort By Height\n",
      "[(b'Paul', 5, 42.1) (b'James', 5, 48.5) (b'Mahdi', 5, 50.5)\n",
      " (b'Nail', 6, 52.5)]\n"
     ]
    }
   ],
   "source": [
    "import numpy as np\n",
    "data_type = [('name', 'S15'), ('class', int), ('height', float)]\n",
    "students_details = [('James', 5, 48.5), ('Nail', 6, 52.5), ('Paul', 5, 42.10),('Mahdi', 5, 50.5)]\n",
    "# Create a structured array\n",
    "students = np.array(students_details, dtype=data_type)\n",
    "print(\"Original Array\")\n",
    "print(students)\n",
    "print(\"Sort By Height\")\n",
    "print(np.sort(students, order='height'))"
   ]
  }
 ],
 "metadata": {
  "kernelspec": {
   "display_name": "Python 3",
   "language": "python",
   "name": "python3"
  },
  "language_info": {
   "codemirror_mode": {
    "name": "ipython",
    "version": 3
   },
   "file_extension": ".py",
   "mimetype": "text/x-python",
   "name": "python",
   "nbconvert_exporter": "python",
   "pygments_lexer": "ipython3",
   "version": "3.13.0"
  }
 },
 "nbformat": 4,
 "nbformat_minor": 2
}
