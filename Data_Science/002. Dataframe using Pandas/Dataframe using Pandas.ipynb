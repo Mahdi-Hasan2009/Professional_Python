{
 "cells": [
  {
   "cell_type": "code",
   "execution_count": 1,
   "metadata": {},
   "outputs": [
    {
     "name": "stdout",
     "output_type": "stream",
     "text": [
      "Summy of the basic information about htis DataFrame and its data:\n",
      "<class 'pandas.core.frame.DataFrame'>\n",
      "Index: 9 entries, a to i\n",
      "Data columns (total 4 columns):\n",
      " #   Column    Non-Null Count  Dtype  \n",
      "---  ------    --------------  -----  \n",
      " 0   name      9 non-null      object \n",
      " 1   score     7 non-null      float64\n",
      " 2   attempts  9 non-null      int64  \n",
      " 3   qualify   9 non-null      object \n",
      "dtypes: float64(1), int64(1), object(2)\n",
      "memory usage: 360.0+ bytes\n",
      "None\n",
      "      name  score  attempts qualify\n",
      "a    Mahdi   12.5         1     yes\n",
      "b     Amit   30.0         2     yes\n",
      "c  Muhtadi   15.0         3     yes\n",
      "d    Mahir   10.0         4      no\n",
      "e    Samha    9.0         5     yes\n",
      "f   Tasnia    7.0         4      no\n",
      "g   Subait    NaN         3      no\n",
      "h    Abrar    8.0         2      no\n",
      "i     Ayat    NaN         1      no\n"
     ]
    }
   ],
   "source": [
    "import pandas as pd # We usually write import pandas as pd\n",
    "import numpy as np\n",
    "\n",
    "exam_data = {'name': ['Mahdi', 'Amit', 'Muhtadi', 'Mahir', 'Samha', 'Tasnia', 'Subait', 'Abrar', 'Ayat'],\n",
    "    'score': [12.5, 30, 15, 10, 9, 7, np.nan, 8, np.nan],\n",
    "    'attempts': [1, 2, 3, 4, 5, 4, 3, 2, 1],\n",
    "    'qualify': ['yes', 'yes', 'yes', 'no', 'yes', 'no', 'no', 'no', 'no']}\n",
    "labels = ['a', 'b', 'c', 'd','e','f','g', 'h', 'i']\n",
    "\n",
    "df = pd.DataFrame(exam_data, index=labels)\n",
    "print(\"Summy of the basic information about htis DataFrame and its data:\")\n",
    "print(df.info())\n",
    "print(df)"
   ]
  }
 ],
 "metadata": {
  "kernelspec": {
   "display_name": "Python 3",
   "language": "python",
   "name": "python3"
  },
  "language_info": {
   "codemirror_mode": {
    "name": "ipython",
    "version": 3
   },
   "file_extension": ".py",
   "mimetype": "text/x-python",
   "name": "python",
   "nbconvert_exporter": "python",
   "pygments_lexer": "ipython3",
   "version": "3.13.0"
  }
 },
 "nbformat": 4,
 "nbformat_minor": 2
}
