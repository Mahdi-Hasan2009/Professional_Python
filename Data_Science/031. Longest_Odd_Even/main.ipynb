{
 "cells": [
  {
   "cell_type": "code",
   "execution_count": null,
   "metadata": {},
   "outputs": [],
   "source": [
    "\"\"\"\n",
    "    ⚡ Finds the length of the longest alternating Even-Odd subarray. ⚡\n",
    "    \n",
    "    ✅ Condition: \n",
    "       - The elements must alternate between Even and Odd. \n",
    "    \n",
    "    🎯 Approach:\n",
    "       - Traverse the array and check consecutive numbers.\n",
    "       - If they satisfy the Even-Odd condition, increase `count`.\n",
    "       - Otherwise, update `longest` and reset `count`.\n",
    "\n",
    "    📌 Example:\n",
    "        Input: [3, 2, 1, 2, 1, 8, 4, 6, 5, 7, 9]\n",
    "        Output: 5  (👉 [6, 5, 7, 9])\n",
    "\n",
    "    🔥 Complexity: O(n) – Efficient! \n",
    "    \"\"\""
   ]
  },
  {
   "cell_type": "code",
   "execution_count": 1,
   "metadata": {},
   "outputs": [],
   "source": [
    "def longestEvenOddSubarray(arr, n):\n",
    "  longest, count = 1, 1\n",
    "  \n",
    "  for i in range(n-1):\n",
    "    if (arr[i] + arr[i + 1]) % 2 == 1:\n",
    "      count += 1\n",
    "    else:\n",
    "      longest = max(longest, count)\n",
    "      count = 1 \n",
    "  \n",
    "  if longest == 1:\n",
    "    return 0\n",
    "  \n",
    "  return max(count, longest)"
   ]
  },
  {
   "cell_type": "code",
   "execution_count": 2,
   "metadata": {},
   "outputs": [],
   "source": [
    "arr = [3, 21,5, 3, 2, 3, 3, 3, 2, 1, 2,1, 8, 4, 6, 5, 7, 9]\n",
    "n = len(arr)"
   ]
  },
  {
   "cell_type": "code",
   "execution_count": 3,
   "metadata": {},
   "outputs": [
    {
     "name": "stdout",
     "output_type": "stream",
     "text": [
      "6\n"
     ]
    }
   ],
   "source": [
    "print(longestEvenOddSubarray(arr, n))"
   ]
  }
 ],
 "metadata": {
  "kernelspec": {
   "display_name": ".venv",
   "language": "python",
   "name": "python3"
  },
  "language_info": {
   "codemirror_mode": {
    "name": "ipython",
    "version": 3
   },
   "file_extension": ".py",
   "mimetype": "text/x-python",
   "name": "python",
   "nbconvert_exporter": "python",
   "pygments_lexer": "ipython3",
   "version": "3.11.0"
  }
 },
 "nbformat": 4,
 "nbformat_minor": 2
}
