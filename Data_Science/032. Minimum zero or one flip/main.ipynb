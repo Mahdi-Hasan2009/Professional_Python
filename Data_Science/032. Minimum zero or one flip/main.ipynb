{
 "cells": [
  {
   "cell_type": "code",
   "execution_count": null,
   "id": "0a4e3289",
   "metadata": {},
   "outputs": [],
   "source": [
    "# Zero Flip or One Flip"
   ]
  },
  {
   "cell_type": "code",
   "execution_count": 1,
   "id": "b59a5328",
   "metadata": {},
   "outputs": [],
   "source": [
    "from icecream import ic"
   ]
  },
  {
   "cell_type": "code",
   "execution_count": 2,
   "id": "047c5ef8",
   "metadata": {},
   "outputs": [],
   "source": [
    "a = [0, 1, 0, 1, 0, 0, 0, 1, 0, 1, 1, 1]"
   ]
  },
  {
   "cell_type": "code",
   "execution_count": 3,
   "id": "8b6bc58d",
   "metadata": {},
   "outputs": [
    {
     "name": "stderr",
     "output_type": "stream",
     "text": [
      "ic| zero_flip: 6, one_flip: 6\n"
     ]
    },
    {
     "data": {
      "text/plain": [
       "(6, 6)"
      ]
     },
     "execution_count": 3,
     "metadata": {},
     "output_type": "execute_result"
    }
   ],
   "source": [
    "zero_flip = 0\n",
    "one_flip = 0\n",
    "\n",
    "for i in range(len(a)):\n",
    "  if a[i] == 0:\n",
    "    zero_flip += 1\n",
    "  if a[i] == 1:\n",
    "    one_flip += 1\n",
    "ic(zero_flip, one_flip)"
   ]
  },
  {
   "cell_type": "code",
   "execution_count": null,
   "id": "a90feae5",
   "metadata": {},
   "outputs": [],
   "source": [
    "# Also can Be done using count"
   ]
  },
  {
   "cell_type": "code",
   "execution_count": 4,
   "id": "7ce3bb8f",
   "metadata": {},
   "outputs": [
    {
     "name": "stderr",
     "output_type": "stream",
     "text": [
      "ic| zero_flip: 6, one_flip: 6\n"
     ]
    },
    {
     "data": {
      "text/plain": [
       "(6, 6)"
      ]
     },
     "execution_count": 4,
     "metadata": {},
     "output_type": "execute_result"
    }
   ],
   "source": [
    "zero_flip, one_flip = a.count(0), a.count(1)\n",
    "ic(zero_flip, one_flip)"
   ]
  },
  {
   "cell_type": "code",
   "execution_count": null,
   "id": "3c0ea80f",
   "metadata": {},
   "outputs": [],
   "source": [
    "# Also can be done using counter module"
   ]
  },
  {
   "cell_type": "code",
   "execution_count": 5,
   "id": "0b5a08b5",
   "metadata": {},
   "outputs": [
    {
     "name": "stderr",
     "output_type": "stream",
     "text": [
      "ic| counter: Counter({0: 6, 1: 6})\n",
      "ic| counter[0]: 6, counter[1]: 6\n"
     ]
    },
    {
     "data": {
      "text/plain": [
       "(6, 6)"
      ]
     },
     "execution_count": 5,
     "metadata": {},
     "output_type": "execute_result"
    }
   ],
   "source": [
    "from collections import Counter\n",
    "counter = Counter(a)\n",
    "ic(counter)\n",
    "ic(counter[0], counter[1])"
   ]
  }
 ],
 "metadata": {
  "kernelspec": {
   "display_name": ".venv",
   "language": "python",
   "name": "python3"
  },
  "language_info": {
   "codemirror_mode": {
    "name": "ipython",
    "version": 3
   },
   "file_extension": ".py",
   "mimetype": "text/x-python",
   "name": "python",
   "nbconvert_exporter": "python",
   "pygments_lexer": "ipython3",
   "version": "3.11.0"
  }
 },
 "nbformat": 4,
 "nbformat_minor": 5
}
