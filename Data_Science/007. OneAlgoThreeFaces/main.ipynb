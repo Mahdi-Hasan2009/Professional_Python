{
 "cells": [
  {
   "cell_type": "code",
   "execution_count": 1,
   "metadata": {},
   "outputs": [
    {
     "name": "stdout",
     "output_type": "stream",
     "text": [
      "10.0\n",
      "So, the number of iterations will be 1 for any input.\n"
     ]
    }
   ],
   "source": [
    "def fun1(n):\n",
    "  return n * (n+1)/2\n",
    "print(fun1(4))\n",
    "print('So, the number of iterations will be 1 for any input.')"
   ]
  },
  {
   "cell_type": "code",
   "execution_count": 2,
   "metadata": {},
   "outputs": [
    {
     "name": "stdout",
     "output_type": "stream",
     "text": [
      "10\n",
      "So, the number of iterations will be 1+1+1+1=4=n(input) iterations\n"
     ]
    }
   ],
   "source": [
    "def fun2(n):\n",
    "  sum = 0\n",
    "  for i in range(1, n+1):\n",
    "    sum+=i\n",
    "  return sum\n",
    "print(fun2(4))\n",
    "print('So, the number of iterations will be 1+1+1+1=4=n(input) iterations')"
   ]
  },
  {
   "cell_type": "code",
   "execution_count": 3,
   "metadata": {},
   "outputs": [
    {
     "name": "stdout",
     "output_type": "stream",
     "text": [
      "10\n",
      "So, number  of iterations will be 1 + (1+1) + (1 + 1 + 1) + (1 + 1 + 1 + 1) = 1+2+3+4 = 10\n"
     ]
    }
   ],
   "source": [
    "def fun3(n):\n",
    "  sum = 0\n",
    "  for i in range(1,n+1):\n",
    "    for  j in range(1,i+1):\n",
    "      sum+=1\n",
    "  return sum\n",
    "print(fun3(4))\n",
    "print('So, number  of iterations will be 1 + (1+1) + (1 + 1 + 1) + (1 + 1 + 1 + 1) = 1+2+3+4 = 10')"
   ]
  }
 ],
 "metadata": {
  "kernelspec": {
   "display_name": "Python 3",
   "language": "python",
   "name": "python3"
  },
  "language_info": {
   "codemirror_mode": {
    "name": "ipython",
    "version": 3
   },
   "file_extension": ".py",
   "mimetype": "text/x-python",
   "name": "python",
   "nbconvert_exporter": "python",
   "pygments_lexer": "ipython3",
   "version": "3.13.0"
  }
 },
 "nbformat": 4,
 "nbformat_minor": 2
}
