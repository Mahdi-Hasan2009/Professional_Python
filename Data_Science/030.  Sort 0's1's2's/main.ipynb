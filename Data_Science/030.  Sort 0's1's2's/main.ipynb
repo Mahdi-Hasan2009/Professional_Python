{
 "cells": [
  {
   "cell_type": "markdown",
   "metadata": {},
   "source": [
    "\"\"\"\n",
    "🚀 This code processes an array (`arr`) and organizes specific numbers into a new array.\n",
    "\n",
    "📌 **Step-by-step explanation:**\n",
    "1️⃣ An array `arr` is created containing different numbers.\n",
    "2️⃣ Three empty lists (`zeros`, `ones`, `twos`) are initialized to store 0s, 1s, and 2s separately.\n",
    "3️⃣ A loop iterates through `arr` to separate numbers:\n",
    "   - 🟢 If the number is 0 ➝ it is added to `zeros` list.\n",
    "   - 🔵 If the number is 1 ➝ it is added to `ones` list.\n",
    "   - 🟡 If the number is 2 ➝ it is added to `twos` list.\n",
    "4️⃣ A new list `new` is created, where elements from `zeros`, `ones`, and `twos` are added sequentially.\n",
    "5️⃣ Finally, the original array (`arr`) and the newly organized array (`new`) are printed.\n",
    "\n",
    "🎯 **Goal:**  \n",
    "✅ Separate 0s, 1s, and 2s from the original array and store them in a new ordered list.\n",
    "\"\"\""
   ]
  },
  {
   "cell_type": "code",
   "execution_count": 1,
   "metadata": {},
   "outputs": [],
   "source": [
    "arr = [0, 1, 2, 3, 4, 22, 23, 525]"
   ]
  },
  {
   "cell_type": "code",
   "execution_count": 2,
   "metadata": {},
   "outputs": [],
   "source": [
    "zeros = []\n",
    "ones = []\n",
    "twos = []\n",
    "new = []"
   ]
  },
  {
   "cell_type": "code",
   "execution_count": 3,
   "metadata": {},
   "outputs": [],
   "source": [
    "for i in range (0, len(arr)):\n",
    "  if arr[i] == 0:\n",
    "    zeros.append(arr[i])\n",
    "  elif arr[i] == 1:\n",
    "    ones.append(arr[i])\n",
    "  elif arr[i] == 2:\n",
    "    twos.append(arr[i])\n",
    "for i in range (0, len(zeros)):\n",
    "  new.append(zeros[i])\n",
    "for i in range (0, len(ones)):\n",
    "  new.append(ones[i])\n",
    "for i in range (0, len(twos)):\n",
    "  new.append(twos[i])"
   ]
  },
  {
   "cell_type": "code",
   "execution_count": 4,
   "metadata": {},
   "outputs": [
    {
     "name": "stdout",
     "output_type": "stream",
     "text": [
      "\u001b[1mOld array:\u001b[0m\n",
      "[0, 1, 2, 3, 4, 22, 23, 525] \n",
      "\u001b[1mThe new array with zeros at the end looks like this:\u001b[0m \n",
      "[0, 1, 2]\n"
     ]
    }
   ],
   "source": [
    "print(\"\\033[1mOld array:\\033[0m\\n{} \\n\\033[1mThe new array with zeros at the end looks like this:\\033[0m \\n{}\".format(arr, new))"
   ]
  }
 ],
 "metadata": {
  "kernelspec": {
   "display_name": ".venv",
   "language": "python",
   "name": "python3"
  },
  "language_info": {
   "codemirror_mode": {
    "name": "ipython",
    "version": 3
   },
   "file_extension": ".py",
   "mimetype": "text/x-python",
   "name": "python",
   "nbconvert_exporter": "python",
   "pygments_lexer": "ipython3",
   "version": "3.11.0"
  }
 },
 "nbformat": 4,
 "nbformat_minor": 2
}
