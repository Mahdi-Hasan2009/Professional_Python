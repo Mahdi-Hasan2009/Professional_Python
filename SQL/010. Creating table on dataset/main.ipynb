{
 "cells": [
  {
   "cell_type": "code",
   "execution_count": 1,
   "id": "39527b38",
   "metadata": {},
   "outputs": [
    {
     "name": "stdout",
     "output_type": "stream",
     "text": [
      "Database connected successfully....\n"
     ]
    }
   ],
   "source": [
    "import sqlite3\n",
    "database = \"basketball.sqlite\"\n",
    "conn = sqlite3.connect(database)\n",
    "print(\"Database connected successfully....\")"
   ]
  },
  {
   "cell_type": "code",
   "execution_count": 3,
   "id": "2d8b880a",
   "metadata": {},
   "outputs": [
    {
     "name": "stdout",
     "output_type": "stream",
     "text": [
      "Table Created successfully\n"
     ]
    }
   ],
   "source": [
    "conn.execute(\n",
    "  \"\"\"CREATE TABLE MAHDI_HASAN\n",
    "  (\n",
    "    SNO INT UNIQUE,\n",
    "    ROLL INT NOT NULL,\n",
    "    NAME TEXT,\n",
    "    MARKS REAL\n",
    "  )\n",
    "  \"\"\"\n",
    ")\n",
    "print(\"Table Created successfully\")"
   ]
  },
  {
   "cell_type": "code",
   "execution_count": 7,
   "id": "17cfe68d",
   "metadata": {},
   "outputs": [
    {
     "ename": "IntegrityError",
     "evalue": "UNIQUE constraint failed: MAHDI_HASAN.SNO",
     "output_type": "error",
     "traceback": [
      "\u001b[1;31m---------------------------------------------------------------------------\u001b[0m",
      "\u001b[1;31mIntegrityError\u001b[0m                            Traceback (most recent call last)",
      "Cell \u001b[1;32mIn[7], line 1\u001b[0m\n\u001b[1;32m----> 1\u001b[0m conn\u001b[38;5;241m.\u001b[39mexecute(\u001b[38;5;124m\"\u001b[39m\u001b[38;5;124mINSERT INTO MAHDI_HASAN (SNO, ROLL, NAME, MARKS) VALUES (1, 101, \u001b[39m\u001b[38;5;124m'\u001b[39m\u001b[38;5;124mMahdi\u001b[39m\u001b[38;5;124m'\u001b[39m\u001b[38;5;124m, 95.5)\u001b[39m\u001b[38;5;124m\"\u001b[39m)\n\u001b[0;32m      2\u001b[0m conn\u001b[38;5;241m.\u001b[39mexecute(\u001b[38;5;124m\"\u001b[39m\u001b[38;5;124mINSERT INTO MAHDI_HASAN (SNO, ROLL, NAME, MARKS) VALUES (2, 102, \u001b[39m\u001b[38;5;124m'\u001b[39m\u001b[38;5;124mHasan\u001b[39m\u001b[38;5;124m'\u001b[39m\u001b[38;5;124m, 89.0)\u001b[39m\u001b[38;5;124m\"\u001b[39m)\n\u001b[0;32m      3\u001b[0m conn\u001b[38;5;241m.\u001b[39mexecute(\u001b[38;5;124m\"\u001b[39m\u001b[38;5;124mINSERT INTO MAHDI_HASAN (SNO, ROLL, NAME, MARKS) VALUES (3, 103, \u001b[39m\u001b[38;5;124m'\u001b[39m\u001b[38;5;124mAyaan\u001b[39m\u001b[38;5;124m'\u001b[39m\u001b[38;5;124m, 76.5)\u001b[39m\u001b[38;5;124m\"\u001b[39m)\n",
      "\u001b[1;31mIntegrityError\u001b[0m: UNIQUE constraint failed: MAHDI_HASAN.SNO"
     ]
    }
   ],
   "source": [
    "conn.execute(\"INSERT INTO MAHDI_HASAN (SNO, ROLL, NAME, MARKS) VALUES (1, 101, 'Mahdi', 95.5)\")\n",
    "conn.execute(\"INSERT INTO MAHDI_HASAN (SNO, ROLL, NAME, MARKS) VALUES (2, 102, 'Hasan', 89.0)\")\n",
    "conn.execute(\"INSERT INTO MAHDI_HASAN (SNO, ROLL, NAME, MARKS) VALUES (3, 103, 'Ayaan', 76.5)\")\n",
    "conn.execute(\"INSERT INTO MAHDI_HASAN (SNO, ROLL, NAME, MARKS) VALUES (4, 104, 'Fatima', NULL)\")\n",
    "\n",
    "conn.commit()\n",
    "print(\"Values added\")"
   ]
  },
  {
   "cell_type": "code",
   "execution_count": 8,
   "id": "d1d74f84",
   "metadata": {},
   "outputs": [
    {
     "name": "stdout",
     "output_type": "stream",
     "text": [
      "Old data deleted\n"
     ]
    }
   ],
   "source": [
    "conn.execute(\"DELETE FROM MAHDI_HASAN\")\n",
    "conn.commit()\n",
    "print(\"Old data deleted\")\n"
   ]
  },
  {
   "cell_type": "code",
   "execution_count": 9,
   "id": "af20c74f",
   "metadata": {},
   "outputs": [
    {
     "name": "stdout",
     "output_type": "stream",
     "text": [
      "Values added again successfully\n"
     ]
    }
   ],
   "source": [
    "conn.execute(\"INSERT INTO MAHDI_HASAN (SNO, ROLL, NAME, MARKS) VALUES (1, 101, 'Mahdi', 95.5)\")\n",
    "conn.execute(\"INSERT INTO MAHDI_HASAN (SNO, ROLL, NAME, MARKS) VALUES (2, 102, 'Hasan', 89.0)\")\n",
    "conn.execute(\"INSERT INTO MAHDI_HASAN (SNO, ROLL, NAME, MARKS) VALUES (3, 103, 'Ayaan', 76.5)\")\n",
    "conn.execute(\"INSERT INTO MAHDI_HASAN (SNO, ROLL, NAME, MARKS) VALUES (4, 104, 'Fatima', NULL)\")\n",
    "conn.commit()\n",
    "print(\"Values added again successfully\")\n"
   ]
  },
  {
   "cell_type": "code",
   "execution_count": 10,
   "id": "f4f07321",
   "metadata": {},
   "outputs": [
    {
     "data": {
      "text/html": [
       "<div>\n",
       "<style scoped>\n",
       "    .dataframe tbody tr th:only-of-type {\n",
       "        vertical-align: middle;\n",
       "    }\n",
       "\n",
       "    .dataframe tbody tr th {\n",
       "        vertical-align: top;\n",
       "    }\n",
       "\n",
       "    .dataframe thead th {\n",
       "        text-align: right;\n",
       "    }\n",
       "</style>\n",
       "<table border=\"1\" class=\"dataframe\">\n",
       "  <thead>\n",
       "    <tr style=\"text-align: right;\">\n",
       "      <th></th>\n",
       "      <th>type</th>\n",
       "      <th>name</th>\n",
       "      <th>tbl_name</th>\n",
       "      <th>rootpage</th>\n",
       "      <th>sql</th>\n",
       "    </tr>\n",
       "  </thead>\n",
       "  <tbody>\n",
       "    <tr>\n",
       "      <th>0</th>\n",
       "      <td>table</td>\n",
       "      <td>Team_Attributes</td>\n",
       "      <td>Team_Attributes</td>\n",
       "      <td>2</td>\n",
       "      <td>CREATE TABLE `Team_Attributes` (`ID`, `ABBREVI...</td>\n",
       "    </tr>\n",
       "    <tr>\n",
       "      <th>1</th>\n",
       "      <td>table</td>\n",
       "      <td>Player_Salary</td>\n",
       "      <td>Player_Salary</td>\n",
       "      <td>5</td>\n",
       "      <td>CREATE TABLE `Player_Salary` (`slugSeason`, `n...</td>\n",
       "    </tr>\n",
       "    <tr>\n",
       "      <th>2</th>\n",
       "      <td>table</td>\n",
       "      <td>Draft</td>\n",
       "      <td>Draft</td>\n",
       "      <td>36</td>\n",
       "      <td>CREATE TABLE `Draft` (`yearDraft`, `numberPick...</td>\n",
       "    </tr>\n",
       "    <tr>\n",
       "      <th>3</th>\n",
       "      <td>table</td>\n",
       "      <td>Team</td>\n",
       "      <td>Team</td>\n",
       "      <td>314</td>\n",
       "      <td>CREATE TABLE `Team` (`id`, `full_name`, `abbre...</td>\n",
       "    </tr>\n",
       "    <tr>\n",
       "      <th>4</th>\n",
       "      <td>table</td>\n",
       "      <td>Player_Attributes</td>\n",
       "      <td>Player_Attributes</td>\n",
       "      <td>315</td>\n",
       "      <td>CREATE TABLE `Player_Attributes` (`ID`, `FIRST...</td>\n",
       "    </tr>\n",
       "    <tr>\n",
       "      <th>5</th>\n",
       "      <td>table</td>\n",
       "      <td>Player</td>\n",
       "      <td>Player</td>\n",
       "      <td>617</td>\n",
       "      <td>CREATE TABLE `Player` (`id`, `full_name`, `fir...</td>\n",
       "    </tr>\n",
       "    <tr>\n",
       "      <th>6</th>\n",
       "      <td>table</td>\n",
       "      <td>MAHDI_HASAN</td>\n",
       "      <td>MAHDI_HASAN</td>\n",
       "      <td>664</td>\n",
       "      <td>CREATE TABLE MAHDI_HASAN\\n  (\\n    SNO INT UNI...</td>\n",
       "    </tr>\n",
       "  </tbody>\n",
       "</table>\n",
       "</div>"
      ],
      "text/plain": [
       "    type               name           tbl_name  rootpage  \\\n",
       "0  table    Team_Attributes    Team_Attributes         2   \n",
       "1  table      Player_Salary      Player_Salary         5   \n",
       "2  table              Draft              Draft        36   \n",
       "3  table               Team               Team       314   \n",
       "4  table  Player_Attributes  Player_Attributes       315   \n",
       "5  table             Player             Player       617   \n",
       "6  table        MAHDI_HASAN        MAHDI_HASAN       664   \n",
       "\n",
       "                                                 sql  \n",
       "0  CREATE TABLE `Team_Attributes` (`ID`, `ABBREVI...  \n",
       "1  CREATE TABLE `Player_Salary` (`slugSeason`, `n...  \n",
       "2  CREATE TABLE `Draft` (`yearDraft`, `numberPick...  \n",
       "3  CREATE TABLE `Team` (`id`, `full_name`, `abbre...  \n",
       "4  CREATE TABLE `Player_Attributes` (`ID`, `FIRST...  \n",
       "5  CREATE TABLE `Player` (`id`, `full_name`, `fir...  \n",
       "6  CREATE TABLE MAHDI_HASAN\\n  (\\n    SNO INT UNI...  "
      ]
     },
     "execution_count": 10,
     "metadata": {},
     "output_type": "execute_result"
    }
   ],
   "source": [
    "import pandas as pd\n",
    "\n",
    "table = pd.read_sql(\"\"\"SELECT * FROM sqlite_master WHERE type='table';\"\"\", conn)\n",
    "\n",
    "table"
   ]
  },
  {
   "cell_type": "code",
   "execution_count": 11,
   "id": "2c9314dd",
   "metadata": {},
   "outputs": [],
   "source": [
    "MH = pd.read_sql(\"\"\"SELECT * FROM MAHDI_HASAN;\"\"\", conn)"
   ]
  },
  {
   "cell_type": "code",
   "execution_count": 12,
   "id": "5538eb64",
   "metadata": {},
   "outputs": [
    {
     "data": {
      "text/html": [
       "<div>\n",
       "<style scoped>\n",
       "    .dataframe tbody tr th:only-of-type {\n",
       "        vertical-align: middle;\n",
       "    }\n",
       "\n",
       "    .dataframe tbody tr th {\n",
       "        vertical-align: top;\n",
       "    }\n",
       "\n",
       "    .dataframe thead th {\n",
       "        text-align: right;\n",
       "    }\n",
       "</style>\n",
       "<table border=\"1\" class=\"dataframe\">\n",
       "  <thead>\n",
       "    <tr style=\"text-align: right;\">\n",
       "      <th></th>\n",
       "      <th>SNO</th>\n",
       "      <th>ROLL</th>\n",
       "      <th>NAME</th>\n",
       "      <th>MARKS</th>\n",
       "    </tr>\n",
       "  </thead>\n",
       "  <tbody>\n",
       "    <tr>\n",
       "      <th>0</th>\n",
       "      <td>1</td>\n",
       "      <td>101</td>\n",
       "      <td>Mahdi</td>\n",
       "      <td>95.5</td>\n",
       "    </tr>\n",
       "    <tr>\n",
       "      <th>1</th>\n",
       "      <td>2</td>\n",
       "      <td>102</td>\n",
       "      <td>Hasan</td>\n",
       "      <td>89.0</td>\n",
       "    </tr>\n",
       "    <tr>\n",
       "      <th>2</th>\n",
       "      <td>3</td>\n",
       "      <td>103</td>\n",
       "      <td>Ayaan</td>\n",
       "      <td>76.5</td>\n",
       "    </tr>\n",
       "    <tr>\n",
       "      <th>3</th>\n",
       "      <td>4</td>\n",
       "      <td>104</td>\n",
       "      <td>Fatima</td>\n",
       "      <td>NaN</td>\n",
       "    </tr>\n",
       "  </tbody>\n",
       "</table>\n",
       "</div>"
      ],
      "text/plain": [
       "   SNO  ROLL    NAME  MARKS\n",
       "0    1   101   Mahdi   95.5\n",
       "1    2   102   Hasan   89.0\n",
       "2    3   103   Ayaan   76.5\n",
       "3    4   104  Fatima    NaN"
      ]
     },
     "execution_count": 12,
     "metadata": {},
     "output_type": "execute_result"
    }
   ],
   "source": [
    "MH"
   ]
  },
  {
   "cell_type": "code",
   "execution_count": 13,
   "id": "2934e282",
   "metadata": {},
   "outputs": [],
   "source": [
    "MH_NON = pd.read_sql(\"\"\"SELECT * FROM MAHDI_HASAN WHERE MARKS IS NULL;\"\"\", conn)"
   ]
  },
  {
   "cell_type": "code",
   "execution_count": 14,
   "id": "b9212735",
   "metadata": {},
   "outputs": [
    {
     "data": {
      "text/html": [
       "<div>\n",
       "<style scoped>\n",
       "    .dataframe tbody tr th:only-of-type {\n",
       "        vertical-align: middle;\n",
       "    }\n",
       "\n",
       "    .dataframe tbody tr th {\n",
       "        vertical-align: top;\n",
       "    }\n",
       "\n",
       "    .dataframe thead th {\n",
       "        text-align: right;\n",
       "    }\n",
       "</style>\n",
       "<table border=\"1\" class=\"dataframe\">\n",
       "  <thead>\n",
       "    <tr style=\"text-align: right;\">\n",
       "      <th></th>\n",
       "      <th>SNO</th>\n",
       "      <th>ROLL</th>\n",
       "      <th>NAME</th>\n",
       "      <th>MARKS</th>\n",
       "    </tr>\n",
       "  </thead>\n",
       "  <tbody>\n",
       "    <tr>\n",
       "      <th>0</th>\n",
       "      <td>4</td>\n",
       "      <td>104</td>\n",
       "      <td>Fatima</td>\n",
       "      <td>None</td>\n",
       "    </tr>\n",
       "  </tbody>\n",
       "</table>\n",
       "</div>"
      ],
      "text/plain": [
       "   SNO  ROLL    NAME MARKS\n",
       "0    4   104  Fatima  None"
      ]
     },
     "execution_count": 14,
     "metadata": {},
     "output_type": "execute_result"
    }
   ],
   "source": [
    "MH_NON"
   ]
  },
  {
   "cell_type": "code",
   "execution_count": 15,
   "id": "3ec5b824",
   "metadata": {},
   "outputs": [
    {
     "data": {
      "text/html": [
       "<div>\n",
       "<style scoped>\n",
       "    .dataframe tbody tr th:only-of-type {\n",
       "        vertical-align: middle;\n",
       "    }\n",
       "\n",
       "    .dataframe tbody tr th {\n",
       "        vertical-align: top;\n",
       "    }\n",
       "\n",
       "    .dataframe thead th {\n",
       "        text-align: right;\n",
       "    }\n",
       "</style>\n",
       "<table border=\"1\" class=\"dataframe\">\n",
       "  <thead>\n",
       "    <tr style=\"text-align: right;\">\n",
       "      <th></th>\n",
       "      <th>SNO</th>\n",
       "      <th>ROLL</th>\n",
       "      <th>NAME</th>\n",
       "      <th>MARKS</th>\n",
       "      <th>GRADE</th>\n",
       "    </tr>\n",
       "  </thead>\n",
       "  <tbody>\n",
       "    <tr>\n",
       "      <th>0</th>\n",
       "      <td>1</td>\n",
       "      <td>101</td>\n",
       "      <td>Mahdi</td>\n",
       "      <td>95.5</td>\n",
       "      <td>A+</td>\n",
       "    </tr>\n",
       "    <tr>\n",
       "      <th>1</th>\n",
       "      <td>2</td>\n",
       "      <td>102</td>\n",
       "      <td>Hasan</td>\n",
       "      <td>89.0</td>\n",
       "      <td>A</td>\n",
       "    </tr>\n",
       "    <tr>\n",
       "      <th>2</th>\n",
       "      <td>3</td>\n",
       "      <td>103</td>\n",
       "      <td>Ayaan</td>\n",
       "      <td>76.5</td>\n",
       "      <td>B</td>\n",
       "    </tr>\n",
       "    <tr>\n",
       "      <th>3</th>\n",
       "      <td>4</td>\n",
       "      <td>104</td>\n",
       "      <td>Fatima</td>\n",
       "      <td>NaN</td>\n",
       "      <td>N/A</td>\n",
       "    </tr>\n",
       "  </tbody>\n",
       "</table>\n",
       "</div>"
      ],
      "text/plain": [
       "   SNO  ROLL    NAME  MARKS GRADE\n",
       "0    1   101   Mahdi   95.5    A+\n",
       "1    2   102   Hasan   89.0     A\n",
       "2    3   103   Ayaan   76.5     B\n",
       "3    4   104  Fatima    NaN   N/A"
      ]
     },
     "execution_count": 15,
     "metadata": {},
     "output_type": "execute_result"
    }
   ],
   "source": [
    "GRADE = pd.read_sql(\"\"\"\n",
    "    SELECT\n",
    "      SNO,\n",
    "      ROLL,\n",
    "      NAME,\n",
    "      MARKS,\n",
    "      CASE\n",
    "        WHEN MARKS IS NULL THEN 'N/A'\n",
    "        WHEN MARKS >= 90 THEN 'A+'\n",
    "        WHEN MARKS >= 80 THEN 'A'\n",
    "        WHEN MARKS >= 70 THEN 'B'\n",
    "        WHEN MARKS >= 60 THEN 'C'\n",
    "        WHEN MARKS >= 50 THEN 'D'\n",
    "        ELSE 'F'\n",
    "      END AS GRADE\n",
    "    FROM MAHDI_HASAN;\n",
    "\"\"\", conn)\n",
    "\n",
    "GRADE"
   ]
  }
 ],
 "metadata": {
  "kernelspec": {
   "display_name": "base",
   "language": "python",
   "name": "python3"
  },
  "language_info": {
   "codemirror_mode": {
    "name": "ipython",
    "version": 3
   },
   "file_extension": ".py",
   "mimetype": "text/x-python",
   "name": "python",
   "nbconvert_exporter": "python",
   "pygments_lexer": "ipython3",
   "version": "3.12.7"
  }
 },
 "nbformat": 4,
 "nbformat_minor": 5
}
