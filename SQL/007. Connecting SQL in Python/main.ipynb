{
 "cells": [
  {
   "cell_type": "code",
   "execution_count": 1,
   "id": "a502f027",
   "metadata": {},
   "outputs": [
    {
     "name": "stdout",
     "output_type": "stream",
     "text": [
      "Database connected successfully\n"
     ]
    }
   ],
   "source": [
    "import sqlite3\n",
    "database = \"basketball.sqlite\"\n",
    "conn = sqlite3.connect(database)\n",
    "print(\"Database connected successfully\")"
   ]
  },
  {
   "cell_type": "code",
   "execution_count": 2,
   "id": "f3f7c2fc",
   "metadata": {},
   "outputs": [
    {
     "data": {
      "text/html": [
       "<div>\n",
       "<style scoped>\n",
       "    .dataframe tbody tr th:only-of-type {\n",
       "        vertical-align: middle;\n",
       "    }\n",
       "\n",
       "    .dataframe tbody tr th {\n",
       "        vertical-align: top;\n",
       "    }\n",
       "\n",
       "    .dataframe thead th {\n",
       "        text-align: right;\n",
       "    }\n",
       "</style>\n",
       "<table border=\"1\" class=\"dataframe\">\n",
       "  <thead>\n",
       "    <tr style=\"text-align: right;\">\n",
       "      <th></th>\n",
       "      <th>type</th>\n",
       "      <th>name</th>\n",
       "      <th>tbl_name</th>\n",
       "      <th>rootpage</th>\n",
       "      <th>sql</th>\n",
       "    </tr>\n",
       "  </thead>\n",
       "  <tbody>\n",
       "    <tr>\n",
       "      <th>0</th>\n",
       "      <td>table</td>\n",
       "      <td>Team_Attributes</td>\n",
       "      <td>Team_Attributes</td>\n",
       "      <td>2</td>\n",
       "      <td>CREATE TABLE `Team_Attributes` (`ID`, `ABBREVI...</td>\n",
       "    </tr>\n",
       "    <tr>\n",
       "      <th>1</th>\n",
       "      <td>table</td>\n",
       "      <td>Player_Salary</td>\n",
       "      <td>Player_Salary</td>\n",
       "      <td>5</td>\n",
       "      <td>CREATE TABLE `Player_Salary` (`slugSeason`, `n...</td>\n",
       "    </tr>\n",
       "    <tr>\n",
       "      <th>2</th>\n",
       "      <td>table</td>\n",
       "      <td>Draft</td>\n",
       "      <td>Draft</td>\n",
       "      <td>36</td>\n",
       "      <td>CREATE TABLE `Draft` (`yearDraft`, `numberPick...</td>\n",
       "    </tr>\n",
       "    <tr>\n",
       "      <th>3</th>\n",
       "      <td>table</td>\n",
       "      <td>Team</td>\n",
       "      <td>Team</td>\n",
       "      <td>314</td>\n",
       "      <td>CREATE TABLE `Team` (`id`, `full_name`, `abbre...</td>\n",
       "    </tr>\n",
       "    <tr>\n",
       "      <th>4</th>\n",
       "      <td>table</td>\n",
       "      <td>Player_Attributes</td>\n",
       "      <td>Player_Attributes</td>\n",
       "      <td>315</td>\n",
       "      <td>CREATE TABLE `Player_Attributes` (`ID`, `FIRST...</td>\n",
       "    </tr>\n",
       "    <tr>\n",
       "      <th>5</th>\n",
       "      <td>table</td>\n",
       "      <td>Player</td>\n",
       "      <td>Player</td>\n",
       "      <td>617</td>\n",
       "      <td>CREATE TABLE `Player` (`id`, `full_name`, `fir...</td>\n",
       "    </tr>\n",
       "  </tbody>\n",
       "</table>\n",
       "</div>"
      ],
      "text/plain": [
       "    type               name           tbl_name  rootpage  \\\n",
       "0  table    Team_Attributes    Team_Attributes         2   \n",
       "1  table      Player_Salary      Player_Salary         5   \n",
       "2  table              Draft              Draft        36   \n",
       "3  table               Team               Team       314   \n",
       "4  table  Player_Attributes  Player_Attributes       315   \n",
       "5  table             Player             Player       617   \n",
       "\n",
       "                                                 sql  \n",
       "0  CREATE TABLE `Team_Attributes` (`ID`, `ABBREVI...  \n",
       "1  CREATE TABLE `Player_Salary` (`slugSeason`, `n...  \n",
       "2  CREATE TABLE `Draft` (`yearDraft`, `numberPick...  \n",
       "3  CREATE TABLE `Team` (`id`, `full_name`, `abbre...  \n",
       "4  CREATE TABLE `Player_Attributes` (`ID`, `FIRST...  \n",
       "5  CREATE TABLE `Player` (`id`, `full_name`, `fir...  "
      ]
     },
     "execution_count": 2,
     "metadata": {},
     "output_type": "execute_result"
    }
   ],
   "source": [
    "import pandas\n",
    "tables = pandas.read_sql(\"\"\"SELECT * FROM sqlite_master WHERE type='table';\"\"\",conn)\n",
    "tables"
   ]
  }
 ],
 "metadata": {
  "kernelspec": {
   "display_name": "base",
   "language": "python",
   "name": "python3"
  },
  "language_info": {
   "codemirror_mode": {
    "name": "ipython",
    "version": 3
   },
   "file_extension": ".py",
   "mimetype": "text/x-python",
   "name": "python",
   "nbconvert_exporter": "python",
   "pygments_lexer": "ipython3",
   "version": "3.12.7"
  }
 },
 "nbformat": 4,
 "nbformat_minor": 5
}
